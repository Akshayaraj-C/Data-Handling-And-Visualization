{
  "nbformat": 4,
  "nbformat_minor": 0,
  "metadata": {
    "colab": {
      "provenance": []
    },
    "kernelspec": {
      "name": "python3",
      "display_name": "Python 3"
    },
    "language_info": {
      "name": "python"
    }
  },
  "cells": [
    {
      "cell_type": "code",
      "source": [
        "import requests\n",
        "from bs4 import BeautifulSoup\n",
        "\n",
        "\n"
      ],
      "metadata": {
        "id": "2YamXbLmDsFu"
      },
      "execution_count": null,
      "outputs": []
    },
    {
      "cell_type": "code",
      "source": [
        "url = 'https://en.wikipedia.org/wiki/List_of_busiest_airports_by_passenger_traffic'\n",
        "response = requests.get(url)\n",
        "\n"
      ],
      "metadata": {
        "id": "6D3tXj-qEiYA"
      },
      "execution_count": null,
      "outputs": []
    },
    {
      "cell_type": "code",
      "source": [
        "soup = BeautifulSoup(response.text, 'html.parser')\n",
        "\n"
      ],
      "metadata": {
        "id": "vIFSjAwSEpKg"
      },
      "execution_count": null,
      "outputs": []
    },
    {
      "cell_type": "code",
      "source": [
        "table = soup.find('table', class_='wikitable')\n",
        "\n"
      ],
      "metadata": {
        "id": "XEmLfnW3E0aV"
      },
      "execution_count": null,
      "outputs": []
    },
    {
      "cell_type": "code",
      "source": [
        "airport_names = []\n",
        "passenger_counts = []\n",
        "\n",
        "for row in table.find_all('tr')[1:]:\n",
        "    airport_name = row.find_all('td')[1].text.strip()\n",
        "    airport_names.append(airport_name)\n",
        "\n",
        "    passenger_count = row.find_all('td')[3].text.strip()\n",
        "    passenger_counts.append(passenger_count)\n",
        "\n",
        "print(\"Top 10 Busiest Airports in the World by Passenger Traffic:\")\n",
        "for i in range(10):\n",
        "    print(f\"{i+1}. {airport_names[i]} - {passenger_counts[i]}\")\n",
        "\n",
        "\n",
        "\n"
      ],
      "metadata": {
        "colab": {
          "base_uri": "https://localhost:8080/"
        },
        "id": "HDqyEk85E4iT",
        "outputId": "a2ba9b9e-853c-4907-ba3e-a18de5d351d9"
      },
      "execution_count": null,
      "outputs": [
        {
          "output_type": "stream",
          "name": "stdout",
          "text": [
            "Top 10 Busiest Airports in the World by Passenger Traffic:\n",
            "1. Hartsfield–Jackson Atlanta International Airport - United States\n",
            "2. Dubai International Airport - United Arab Emirates\n",
            "3. Tokyo Haneda Airport - Japan\n",
            "4. Dallas Fort Worth International Airport - United States\n",
            "5. Heathrow Airport - United Kingdom\n",
            "6. Denver International Airport - United States\n",
            "7. Istanbul Airport - Turkey\n",
            "8. Los Angeles International Airport - United States\n",
            "9. O'Hare International Airport - United States\n",
            "10. Indira Gandhi International Airport - India\n"
          ]
        }
      ]
    }
  ]
}